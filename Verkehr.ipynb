{
 "cells": [
  {
   "cell_type": "markdown",
   "source": [
    "$\\left|\\begin{array}{ccc}A-B&=&90\\\\B-C&=&15\\\\C-D&=&-195\\\\D-A&=&80\\end{array}\\right|$"
   ],
   "metadata": {}
  },
  {
   "cell_type": "code",
   "execution_count": 5,
   "source": [
    "from sympy import *\r\n",
    "M = Matrix([[1,-1,0,0,90], [0,1,-1, 0, 15], [0,0,1,-1,-195,], [-1,0,0,1,80]])\r\n",
    "\r\n",
    "print(f'Erweiterte Matrix {M}')"
   ],
   "outputs": [
    {
     "output_type": "stream",
     "name": "stdout",
     "text": [
      "Erweiterte Matrix Matrix([[1, -1, 0, 0, 90], [0, 1, -1, 0, 15], [0, 0, 1, -1, -195], [-1, 0, 0, 1, 80]])\n"
     ]
    }
   ],
   "metadata": {}
  },
  {
   "cell_type": "code",
   "execution_count": 6,
   "source": [
    "lsg = M.rref()\r\n",
    "print(f\"Reduzierte Zeilenstufenfrom {lsg} \")"
   ],
   "outputs": [
    {
     "output_type": "stream",
     "name": "stdout",
     "text": [
      "Reduzierte Zeilenstufenfrom (Matrix([\n",
      "[1, 0, 0, -1, 0],\n",
      "[0, 1, 0, -1, 0],\n",
      "[0, 0, 1, -1, 0],\n",
      "[0, 0, 0,  0, 1]]), (0, 1, 2, 4)) \n"
     ]
    }
   ],
   "metadata": {}
  },
  {
   "cell_type": "code",
   "execution_count": null,
   "source": [],
   "outputs": [],
   "metadata": {}
  }
 ],
 "metadata": {
  "orig_nbformat": 4,
  "language_info": {
   "name": "python",
   "version": "3.9.6",
   "mimetype": "text/x-python",
   "codemirror_mode": {
    "name": "ipython",
    "version": 3
   },
   "pygments_lexer": "ipython3",
   "nbconvert_exporter": "python",
   "file_extension": ".py"
  },
  "kernelspec": {
   "name": "python3",
   "display_name": "Python 3.9.6 64-bit"
  },
  "interpreter": {
   "hash": "63fd5069d213b44bf678585dea6b12cceca9941eaf7f819626cde1f2670de90d"
  }
 },
 "nbformat": 4,
 "nbformat_minor": 2
}