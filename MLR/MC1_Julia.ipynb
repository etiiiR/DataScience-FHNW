{
 "cells": [
  {
   "cell_type": "code",
   "execution_count": 18,
   "metadata": {},
   "outputs": [
    {
     "name": "stderr",
     "output_type": "stream",
     "text": [
      "\u001b[32m\u001b[1m   Resolving\u001b[22m\u001b[39m package versions..."
     ]
    },
    {
     "name": "stderr",
     "output_type": "stream",
     "text": [
      "\n"
     ]
    },
    {
     "name": "stderr",
     "output_type": "stream",
     "text": [
      "\u001b[32m\u001b[1m  No Changes\u001b[22m\u001b[39m to `C:\\Users\\super\\.julia\\environments\\v1.10\\Project.toml`\n",
      "\u001b[32m\u001b[1m  No Changes\u001b[22m\u001b[39m to `C:\\Users\\super\\.julia\\environments\\v1.10\\Manifest.toml`\n"
     ]
    },
    {
     "name": "stderr",
     "output_type": "stream",
     "text": [
      "\u001b[32m\u001b[1m   Resolving\u001b[22m\u001b[39m package versions...\n"
     ]
    },
    {
     "name": "stderr",
     "output_type": "stream",
     "text": [
      "\u001b[32m\u001b[1m  No Changes\u001b[22m\u001b[39m to `C:\\Users\\super\\.julia\\environments\\v1.10\\Project.toml`\n",
      "\u001b[32m\u001b[1m  No Changes\u001b[22m\u001b[39m to `C:\\Users\\super\\.julia\\environments\\v1.10\\Manifest.toml`"
     ]
    },
    {
     "name": "stderr",
     "output_type": "stream",
     "text": [
      "\n"
     ]
    },
    {
     "name": "stderr",
     "output_type": "stream",
     "text": [
      "\u001b[32m\u001b[1m   Resolving\u001b[22m\u001b[39m package versions...\n"
     ]
    },
    {
     "name": "stderr",
     "output_type": "stream",
     "text": [
      "\u001b[32m\u001b[1m  No Changes\u001b[22m\u001b[39m to `C:\\Users\\super\\.julia\\environments\\v1.10\\Project.toml`\n",
      "\u001b[32m\u001b[1m  No Changes\u001b[22m\u001b[39m to `C:\\Users\\super\\.julia\\environments\\v1.10\\Manifest.toml`"
     ]
    },
    {
     "name": "stderr",
     "output_type": "stream",
     "text": [
      "\n"
     ]
    },
    {
     "name": "stderr",
     "output_type": "stream",
     "text": [
      "\u001b[32m\u001b[1m   Resolving\u001b[22m\u001b[39m package versions...\n"
     ]
    },
    {
     "name": "stderr",
     "output_type": "stream",
     "text": [
      "\u001b[32m\u001b[1m  No Changes\u001b[22m\u001b[39m to `C:\\Users\\super\\.julia\\environments\\v1.10\\Project.toml`\n",
      "\u001b[32m\u001b[1m  No Changes\u001b[22m\u001b[39m to `C:\\Users\\super\\.julia\\environments\\v1.10\\Manifest.toml`\n"
     ]
    },
    {
     "name": "stderr",
     "output_type": "stream",
     "text": [
      "\u001b[32m\u001b[1m   Resolving\u001b[22m\u001b[39m package versions...\n"
     ]
    },
    {
     "name": "stderr",
     "output_type": "stream",
     "text": [
      "\u001b[32m\u001b[1m  No Changes\u001b[22m\u001b[39m to `C:\\Users\\super\\.julia\\environments\\v1.10\\Project.toml`\n"
     ]
    },
    {
     "name": "stderr",
     "output_type": "stream",
     "text": [
      "\u001b[32m\u001b[1m  No Changes\u001b[22m\u001b[39m to `C:\\Users\\super\\.julia\\environments\\v1.10\\Manifest.toml`\n"
     ]
    },
    {
     "name": "stderr",
     "output_type": "stream",
     "text": [
      "\u001b[32m\u001b[1m   Resolving\u001b[22m\u001b[39m package versions..."
     ]
    },
    {
     "name": "stderr",
     "output_type": "stream",
     "text": [
      "\n"
     ]
    },
    {
     "name": "stderr",
     "output_type": "stream",
     "text": [
      "\u001b[32m\u001b[1m  No Changes\u001b[22m\u001b[39m to `C:\\Users\\super\\.julia\\environments\\v1.10\\Project.toml`\n",
      "\u001b[32m\u001b[1m  No Changes\u001b[22m\u001b[39m to `C:\\Users\\super\\.julia\\environments\\v1.10\\Manifest.toml`\n"
     ]
    },
    {
     "name": "stderr",
     "output_type": "stream",
     "text": [
      "\u001b[32m\u001b[1m   Resolving\u001b[22m\u001b[39m package versions..."
     ]
    },
    {
     "name": "stderr",
     "output_type": "stream",
     "text": [
      "\n"
     ]
    },
    {
     "name": "stderr",
     "output_type": "stream",
     "text": [
      "\u001b[32m\u001b[1m    Updating\u001b[22m\u001b[39m `C:\\Users\\super\\.julia\\environments\\v1.10\\Project.toml`\n",
      "  \u001b[90m[324d7699] \u001b[39m\u001b[92m+ CategoricalArrays v0.10.8\u001b[39m\n",
      "\u001b[32m\u001b[1m  No Changes\u001b[22m\u001b[39m to `C:\\Users\\super\\.julia\\environments\\v1.10\\Manifest.toml`"
     ]
    },
    {
     "name": "stderr",
     "output_type": "stream",
     "text": [
      "\n"
     ]
    },
    {
     "name": "stderr",
     "output_type": "stream",
     "text": [
      "\u001b[32m\u001b[1m   Resolving\u001b[22m\u001b[39m package versions...\n"
     ]
    },
    {
     "name": "stderr",
     "output_type": "stream",
     "text": [
      "\u001b[32m\u001b[1m  No Changes\u001b[22m\u001b[39m to `C:\\Users\\super\\.julia\\environments\\v1.10\\Project.toml`\n",
      "\u001b[32m\u001b[1m  No Changes\u001b[22m\u001b[39m to `C:\\Users\\super\\.julia\\environments\\v1.10\\Manifest.toml`\n"
     ]
    }
   ],
   "source": [
    "import Pkg\n",
    "Pkg.add(\"DataFrames\")\n",
    "Pkg.add(\"GLM\")\n",
    "Pkg.add(\"StatsBase\")\n",
    "Pkg.add(\"CSV\")\n",
    "Pkg.add(\"Plots\")\n",
    "Pkg.add(\"StatsPlots\")\n",
    "Pkg.add(\"CategoricalArrays\")\n",
    "Pkg.add(\"RDatasets\")\n",
    "using DataFrames, GLM, StatsBase, CSV, Plots, StatsPlots, RDatasets"
   ]
  },
  {
   "cell_type": "code",
   "execution_count": 11,
   "metadata": {},
   "outputs": [
    {
     "data": {
      "text/html": [
       "<div><div style = \"float: left;\"><span>146×5 DataFrame</span></div><div style = \"float: right;\"><span style = \"font-style: italic;\">121 rows omitted</span></div><div style = \"clear: both;\"></div></div><div class = \"data-frame\" style = \"overflow-x: scroll;\"><table class = \"data-frame\" style = \"margin-bottom: 6px;\"><thead><tr class = \"header\"><th class = \"rowNumber\" style = \"font-weight: bold; text-align: right;\">Row</th><th style = \"text-align: left;\">Eth</th><th style = \"text-align: left;\">Sex</th><th style = \"text-align: left;\">Age</th><th style = \"text-align: left;\">Lrn</th><th style = \"text-align: left;\">Days</th></tr><tr class = \"subheader headerLastRow\"><th class = \"rowNumber\" style = \"font-weight: bold; text-align: right;\"></th><th title = \"CategoricalArrays.CategoricalValue{String, UInt8}\" style = \"text-align: left;\">Cat…</th><th title = \"CategoricalArrays.CategoricalValue{String, UInt8}\" style = \"text-align: left;\">Cat…</th><th title = \"CategoricalArrays.CategoricalValue{String, UInt8}\" style = \"text-align: left;\">Cat…</th><th title = \"CategoricalArrays.CategoricalValue{String, UInt8}\" style = \"text-align: left;\">Cat…</th><th title = \"Int32\" style = \"text-align: left;\">Int32</th></tr></thead><tbody><tr><td class = \"rowNumber\" style = \"font-weight: bold; text-align: right;\">1</td><td style = \"text-align: left;\">A</td><td style = \"text-align: left;\">M</td><td style = \"text-align: left;\">F0</td><td style = \"text-align: left;\">SL</td><td style = \"text-align: right;\">2</td></tr><tr><td class = \"rowNumber\" style = \"font-weight: bold; text-align: right;\">2</td><td style = \"text-align: left;\">A</td><td style = \"text-align: left;\">M</td><td style = \"text-align: left;\">F0</td><td style = \"text-align: left;\">SL</td><td style = \"text-align: right;\">11</td></tr><tr><td class = \"rowNumber\" style = \"font-weight: bold; text-align: right;\">3</td><td style = \"text-align: left;\">A</td><td style = \"text-align: left;\">M</td><td style = \"text-align: left;\">F0</td><td style = \"text-align: left;\">SL</td><td style = \"text-align: right;\">14</td></tr><tr><td class = \"rowNumber\" style = \"font-weight: bold; text-align: right;\">4</td><td style = \"text-align: left;\">A</td><td style = \"text-align: left;\">M</td><td style = \"text-align: left;\">F0</td><td style = \"text-align: left;\">AL</td><td style = \"text-align: right;\">5</td></tr><tr><td class = \"rowNumber\" style = \"font-weight: bold; text-align: right;\">5</td><td style = \"text-align: left;\">A</td><td style = \"text-align: left;\">M</td><td style = \"text-align: left;\">F0</td><td style = \"text-align: left;\">AL</td><td style = \"text-align: right;\">5</td></tr><tr><td class = \"rowNumber\" style = \"font-weight: bold; text-align: right;\">6</td><td style = \"text-align: left;\">A</td><td style = \"text-align: left;\">M</td><td style = \"text-align: left;\">F0</td><td style = \"text-align: left;\">AL</td><td style = \"text-align: right;\">13</td></tr><tr><td class = \"rowNumber\" style = \"font-weight: bold; text-align: right;\">7</td><td style = \"text-align: left;\">A</td><td style = \"text-align: left;\">M</td><td style = \"text-align: left;\">F0</td><td style = \"text-align: left;\">AL</td><td style = \"text-align: right;\">20</td></tr><tr><td class = \"rowNumber\" style = \"font-weight: bold; text-align: right;\">8</td><td style = \"text-align: left;\">A</td><td style = \"text-align: left;\">M</td><td style = \"text-align: left;\">F0</td><td style = \"text-align: left;\">AL</td><td style = \"text-align: right;\">22</td></tr><tr><td class = \"rowNumber\" style = \"font-weight: bold; text-align: right;\">9</td><td style = \"text-align: left;\">A</td><td style = \"text-align: left;\">M</td><td style = \"text-align: left;\">F1</td><td style = \"text-align: left;\">SL</td><td style = \"text-align: right;\">6</td></tr><tr><td class = \"rowNumber\" style = \"font-weight: bold; text-align: right;\">10</td><td style = \"text-align: left;\">A</td><td style = \"text-align: left;\">M</td><td style = \"text-align: left;\">F1</td><td style = \"text-align: left;\">SL</td><td style = \"text-align: right;\">6</td></tr><tr><td class = \"rowNumber\" style = \"font-weight: bold; text-align: right;\">11</td><td style = \"text-align: left;\">A</td><td style = \"text-align: left;\">M</td><td style = \"text-align: left;\">F1</td><td style = \"text-align: left;\">SL</td><td style = \"text-align: right;\">15</td></tr><tr><td class = \"rowNumber\" style = \"font-weight: bold; text-align: right;\">12</td><td style = \"text-align: left;\">A</td><td style = \"text-align: left;\">M</td><td style = \"text-align: left;\">F1</td><td style = \"text-align: left;\">AL</td><td style = \"text-align: right;\">7</td></tr><tr><td class = \"rowNumber\" style = \"font-weight: bold; text-align: right;\">13</td><td style = \"text-align: left;\">A</td><td style = \"text-align: left;\">M</td><td style = \"text-align: left;\">F1</td><td style = \"text-align: left;\">AL</td><td style = \"text-align: right;\">14</td></tr><tr><td style = \"text-align: right;\">&vellip;</td><td style = \"text-align: right;\">&vellip;</td><td style = \"text-align: right;\">&vellip;</td><td style = \"text-align: right;\">&vellip;</td><td style = \"text-align: right;\">&vellip;</td><td style = \"text-align: right;\">&vellip;</td></tr><tr><td class = \"rowNumber\" style = \"font-weight: bold; text-align: right;\">135</td><td style = \"text-align: left;\">N</td><td style = \"text-align: left;\">F</td><td style = \"text-align: left;\">F2</td><td style = \"text-align: left;\">SL</td><td style = \"text-align: right;\">12</td></tr><tr><td class = \"rowNumber\" style = \"font-weight: bold; text-align: right;\">136</td><td style = \"text-align: left;\">N</td><td style = \"text-align: left;\">F</td><td style = \"text-align: left;\">F2</td><td style = \"text-align: left;\">AL</td><td style = \"text-align: right;\">1</td></tr><tr><td class = \"rowNumber\" style = \"font-weight: bold; text-align: right;\">137</td><td style = \"text-align: left;\">N</td><td style = \"text-align: left;\">F</td><td style = \"text-align: left;\">F3</td><td style = \"text-align: left;\">AL</td><td style = \"text-align: right;\">1</td></tr><tr><td class = \"rowNumber\" style = \"font-weight: bold; text-align: right;\">138</td><td style = \"text-align: left;\">N</td><td style = \"text-align: left;\">F</td><td style = \"text-align: left;\">F3</td><td style = \"text-align: left;\">AL</td><td style = \"text-align: right;\">9</td></tr><tr><td class = \"rowNumber\" style = \"font-weight: bold; text-align: right;\">139</td><td style = \"text-align: left;\">N</td><td style = \"text-align: left;\">F</td><td style = \"text-align: left;\">F3</td><td style = \"text-align: left;\">AL</td><td style = \"text-align: right;\">22</td></tr><tr><td class = \"rowNumber\" style = \"font-weight: bold; text-align: right;\">140</td><td style = \"text-align: left;\">N</td><td style = \"text-align: left;\">F</td><td style = \"text-align: left;\">F3</td><td style = \"text-align: left;\">AL</td><td style = \"text-align: right;\">3</td></tr><tr><td class = \"rowNumber\" style = \"font-weight: bold; text-align: right;\">141</td><td style = \"text-align: left;\">N</td><td style = \"text-align: left;\">F</td><td style = \"text-align: left;\">F3</td><td style = \"text-align: left;\">AL</td><td style = \"text-align: right;\">3</td></tr><tr><td class = \"rowNumber\" style = \"font-weight: bold; text-align: right;\">142</td><td style = \"text-align: left;\">N</td><td style = \"text-align: left;\">F</td><td style = \"text-align: left;\">F3</td><td style = \"text-align: left;\">AL</td><td style = \"text-align: right;\">5</td></tr><tr><td class = \"rowNumber\" style = \"font-weight: bold; text-align: right;\">143</td><td style = \"text-align: left;\">N</td><td style = \"text-align: left;\">F</td><td style = \"text-align: left;\">F3</td><td style = \"text-align: left;\">AL</td><td style = \"text-align: right;\">15</td></tr><tr><td class = \"rowNumber\" style = \"font-weight: bold; text-align: right;\">144</td><td style = \"text-align: left;\">N</td><td style = \"text-align: left;\">F</td><td style = \"text-align: left;\">F3</td><td style = \"text-align: left;\">AL</td><td style = \"text-align: right;\">18</td></tr><tr><td class = \"rowNumber\" style = \"font-weight: bold; text-align: right;\">145</td><td style = \"text-align: left;\">N</td><td style = \"text-align: left;\">F</td><td style = \"text-align: left;\">F3</td><td style = \"text-align: left;\">AL</td><td style = \"text-align: right;\">22</td></tr><tr><td class = \"rowNumber\" style = \"font-weight: bold; text-align: right;\">146</td><td style = \"text-align: left;\">N</td><td style = \"text-align: left;\">F</td><td style = \"text-align: left;\">F3</td><td style = \"text-align: left;\">AL</td><td style = \"text-align: right;\">37</td></tr></tbody></table></div>"
      ],
      "text/latex": [
       "\\begin{tabular}{r|ccccc}\n",
       "\t& Eth & Sex & Age & Lrn & Days\\\\\n",
       "\t\\hline\n",
       "\t& Cat… & Cat… & Cat… & Cat… & Int32\\\\\n",
       "\t\\hline\n",
       "\t1 & A & M & F0 & SL & 2 \\\\\n",
       "\t2 & A & M & F0 & SL & 11 \\\\\n",
       "\t3 & A & M & F0 & SL & 14 \\\\\n",
       "\t4 & A & M & F0 & AL & 5 \\\\\n",
       "\t5 & A & M & F0 & AL & 5 \\\\\n",
       "\t6 & A & M & F0 & AL & 13 \\\\\n",
       "\t7 & A & M & F0 & AL & 20 \\\\\n",
       "\t8 & A & M & F0 & AL & 22 \\\\\n",
       "\t9 & A & M & F1 & SL & 6 \\\\\n",
       "\t10 & A & M & F1 & SL & 6 \\\\\n",
       "\t11 & A & M & F1 & SL & 15 \\\\\n",
       "\t12 & A & M & F1 & AL & 7 \\\\\n",
       "\t13 & A & M & F1 & AL & 14 \\\\\n",
       "\t14 & A & M & F2 & SL & 6 \\\\\n",
       "\t15 & A & M & F2 & SL & 32 \\\\\n",
       "\t16 & A & M & F2 & SL & 53 \\\\\n",
       "\t17 & A & M & F2 & SL & 57 \\\\\n",
       "\t18 & A & M & F2 & AL & 14 \\\\\n",
       "\t19 & A & M & F2 & AL & 16 \\\\\n",
       "\t20 & A & M & F2 & AL & 16 \\\\\n",
       "\t21 & A & M & F2 & AL & 17 \\\\\n",
       "\t22 & A & M & F2 & AL & 40 \\\\\n",
       "\t23 & A & M & F2 & AL & 43 \\\\\n",
       "\t24 & A & M & F2 & AL & 46 \\\\\n",
       "\t$\\dots$ & $\\dots$ & $\\dots$ & $\\dots$ & $\\dots$ & $\\dots$ \\\\\n",
       "\\end{tabular}\n"
      ],
      "text/plain": [
       "\u001b[1m146×5 DataFrame\u001b[0m\n",
       "\u001b[1m Row \u001b[0m│\u001b[1m Eth  \u001b[0m\u001b[1m Sex  \u001b[0m\u001b[1m Age  \u001b[0m\u001b[1m Lrn  \u001b[0m\u001b[1m Days  \u001b[0m\n",
       "     │\u001b[90m Cat… \u001b[0m\u001b[90m Cat… \u001b[0m\u001b[90m Cat… \u001b[0m\u001b[90m Cat… \u001b[0m\u001b[90m Int32 \u001b[0m\n",
       "─────┼───────────────────────────────\n",
       "   1 │ A     M     F0    SL        2\n",
       "   2 │ A     M     F0    SL       11\n",
       "   3 │ A     M     F0    SL       14\n",
       "   4 │ A     M     F0    AL        5\n",
       "   5 │ A     M     F0    AL        5\n",
       "   6 │ A     M     F0    AL       13\n",
       "   7 │ A     M     F0    AL       20\n",
       "   8 │ A     M     F0    AL       22\n",
       "  ⋮  │  ⋮     ⋮     ⋮     ⋮      ⋮\n",
       " 140 │ N     F     F3    AL        3\n",
       " 141 │ N     F     F3    AL        3\n",
       " 142 │ N     F     F3    AL        5\n",
       " 143 │ N     F     F3    AL       15\n",
       " 144 │ N     F     F3    AL       18\n",
       " 145 │ N     F     F3    AL       22\n",
       " 146 │ N     F     F3    AL       37\n",
       "\u001b[36m                     131 rows omitted\u001b[0m"
      ]
     },
     "metadata": {},
     "output_type": "display_data"
    }
   ],
   "source": [
    "quine = dataset(\"MASS\", \"quine\")"
   ]
  },
  {
   "cell_type": "code",
   "execution_count": 21,
   "metadata": {},
   "outputs": [
    {
     "name": "stdout",
     "output_type": "stream",
     "text": [
      "\u001b[1m9×4 DataFrame\u001b[0m\n",
      "\u001b[1m Row \u001b[0m│\u001b[1m Person \u001b[0m\u001b[1m Medikamentendosis \u001b[0m\u001b[1m a1    \u001b[0m\u001b[1m a2    \u001b[0m\n",
      "     │\u001b[90m Int64  \u001b[0m\u001b[90m Int64             \u001b[0m\u001b[90m Int64 \u001b[0m\u001b[90m Int64 \u001b[0m\n",
      "─────┼─────────────────────────────────────────\n",
      "   1 │      1                  4      1      0\n",
      "   2 │      2                  5      1      0\n",
      "   3 │      3                  6      1      0\n",
      "   4 │      4                 11      0      1\n",
      "   5 │      5                 12      0      1\n",
      "   6 │      6                 13      0      1\n",
      "   7 │      7                 15      0      0\n",
      "   8 │      8                 16      0      0\n",
      "   9 │      9                 17      0      0\n"
     ]
    }
   ],
   "source": [
    "using DataFrames\n",
    "using CategoricalArrays\n",
    "\n",
    "# Erstellen Sie ein DataFrame aus den gegebenen Daten\n",
    "df = DataFrame(Person = 1:9, \n",
    "               Behandlung = [\"a1\", \"a1\", \"a1\", \"a2\", \"a2\", \"a2\", \"a3\", \"a3\", \"a3\"],\n",
    "               Medikamentendosis = [4, 5, 6, 11, 12, 13, 15, 16, 17])\n",
    "\n",
    "# Konvertieren Sie die 'Behandlung' Spalte in kategoriale Variablen\n",
    "df.Behandlung = categorical(df.Behandlung)\n",
    "\n",
    "# Definieren Sie die Referenzkategorie\n",
    "ref_category = \"a3\"\n",
    "\n",
    "# Erzeugen Sie Dummy-Variablen\n",
    "df.a1 = ifelse.(df.Behandlung .== \"a1\", 1, 0)\n",
    "df.a2 = ifelse.(df.Behandlung .== \"a2\", 1, 0)\n",
    "\n",
    "# Entfernen Sie die ursprüngliche 'Behandlung' Spalte\n",
    "select!(df, Not(:Behandlung))\n",
    "\n",
    "println(df)\n"
   ]
  },
  {
   "cell_type": "code",
   "execution_count": 26,
   "metadata": {},
   "outputs": [
    {
     "data": {
      "text/plain": [
       "StatsModels.TableRegressionModel{GeneralizedLinearModel{GLM.GlmResp{Vector{Float64}, Normal{Float64}, IdentityLink}, GLM.DensePredChol{Float64, LinearAlgebra.CholeskyPivoted{Float64, Matrix{Float64}, Vector{Int64}}}}, Matrix{Float64}}\n",
       "\n",
       "Medikamentendosis ~ 1 + a1 + a2\n",
       "\n",
       "Coefficients:\n",
       "──────────────────────────────────────────────────────────────────────\n",
       "             Coef.  Std. Error       z  Pr(>|z|)  Lower 95%  Upper 95%\n",
       "──────────────────────────────────────────────────────────────────────\n",
       "(Intercept)   16.0    0.57735    27.71    <1e-99    14.8684    17.1316\n",
       "a1           -11.0    0.816497  -13.47    <1e-40   -12.6003    -9.3997\n",
       "a2            -4.0    0.816497   -4.90    <1e-06    -5.6003    -2.3997\n",
       "──────────────────────────────────────────────────────────────────────"
      ]
     },
     "metadata": {},
     "output_type": "display_data"
    }
   ],
   "source": [
    "using GLM\n",
    "\n",
    "# Ihr DataFrame df wurde bereits erstellt und die Dummy-Variablen hinzugefügt, wie im vorherigen Beispiel.\n",
    "\n",
    "# Erstellen Sie eine Formel für das Modell\n",
    "formula = @formula(Medikamentendosis ~ a1 + a2)\n",
    "\n",
    "# Schätzen Sie das Modell mit der Generalized Linear Model Funktion\n",
    "model = glm(formula, df, Normal(), IdentityLink())\n"
   ]
  },
  {
   "cell_type": "code",
   "execution_count": null,
   "metadata": {},
   "outputs": [],
   "source": []
  }
 ],
 "metadata": {
  "kernelspec": {
   "display_name": "Julia 1.10.0",
   "language": "julia",
   "name": "julia-1.10"
  },
  "language_info": {
   "file_extension": ".jl",
   "mimetype": "application/julia",
   "name": "julia",
   "version": "1.10.0"
  }
 },
 "nbformat": 4,
 "nbformat_minor": 2
}
